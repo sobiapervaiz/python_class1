{
 "cells": [
  {
   "cell_type": "code",
   "execution_count": 1,
   "metadata": {},
   "outputs": [
    {
     "name": "stdout",
     "output_type": "stream",
     "text": [
      "Pakistan Zindabad\n"
     ]
    }
   ],
   "source": [
    "print(\"Pakistan Zindabad\")"
   ]
  },
  {
   "cell_type": "code",
   "execution_count": 2,
   "metadata": {},
   "outputs": [
    {
     "name": "stdout",
     "output_type": "stream",
     "text": [
      "We are Pakistani\n"
     ]
    }
   ],
   "source": [
    "print(\"We are Pakistani\")"
   ]
  },
  {
   "cell_type": "code",
   "execution_count": 3,
   "metadata": {},
   "outputs": [
    {
     "name": "stdout",
     "output_type": "stream",
     "text": [
      "hello world!\n"
     ]
    }
   ],
   "source": [
    "#PIAIC ISLAMABAD BATCH\n",
    "##class1\n",
    "###python\n",
    "print(\"hello world!\")"
   ]
  },
  {
   "cell_type": "code",
   "execution_count": 14,
   "metadata": {},
   "outputs": [
    {
     "data": {
      "text/plain": [
       "'\\nPIAIC BATCH3 ISLAMABAD\\nName:Sobia Pervaiz\\nFather:Pervaiz Ahmad MAlik\\nUniversity:Bahria University, Islamabad\\n'"
      ]
     },
     "execution_count": 14,
     "metadata": {},
     "output_type": "execute_result"
    }
   ],
   "source": [
    "\"\"\"\n",
    "PIAIC BATCH3 ISLAMABAD\n",
    "Name:Sobia Pervaiz\n",
    "Father:Pervaiz Ahmad MAlik\n",
    "University:Bahria University, Islamabad\n",
    "\"\"\""
   ]
  },
  {
   "cell_type": "code",
   "execution_count": 15,
   "metadata": {},
   "outputs": [
    {
     "name": "stdout",
     "output_type": "stream",
     "text": [
      "PIAIC BATCH3 ISLAMABAD\n",
      "Name=Sobia Pervaiz\n",
      "Father: Pervaiz Ahmad MAlik\n",
      "University=Bahria University, Islamabad\n",
      "\n"
     ]
    }
   ],
   "source": [
    "name=\"Sobia Pervaiz\"\n",
    "father_name=\"Pervaiz Ahmad MAlik\"\n",
    "university=\"Bahria University, Islamabad\"\n",
    "message=\"\"\"PIAIC BATCH3 ISLAMABAD\n",
    "Name={}\n",
    "Father: {}\n",
    "University={}\n",
    "\"\"\".format(name,father_name,university)\n",
    "print(message)"
   ]
  },
  {
   "cell_type": "code",
   "execution_count": 17,
   "metadata": {},
   "outputs": [
    {
     "name": "stdout",
     "output_type": "stream",
     "text": [
      "Type help() for interactive help, or help(object) for help about object.\n"
     ]
    }
   ],
   "source": [
    "print?\n",
    "print??\n",
    "print(help)"
   ]
  },
  {
   "cell_type": "code",
   "execution_count": null,
   "metadata": {},
   "outputs": [],
   "source": []
  }
 ],
 "metadata": {
  "kernelspec": {
   "display_name": "Python 3",
   "language": "python",
   "name": "python3"
  },
  "language_info": {
   "codemirror_mode": {
    "name": "ipython",
    "version": 3
   },
   "file_extension": ".py",
   "mimetype": "text/x-python",
   "name": "python",
   "nbconvert_exporter": "python",
   "pygments_lexer": "ipython3",
   "version": "3.7.4"
  }
 },
 "nbformat": 4,
 "nbformat_minor": 2
}
